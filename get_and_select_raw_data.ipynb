{
 "cells": [
  {
   "cell_type": "markdown",
   "metadata": {},
   "source": [
    "- This notebook download raw data from WRDS and organize the data. Output of this notebook can be used by `constructed_input_price_and_cashflow.ipynb` to construct price vectors and cashflow matrices.\n",
    "- A WRDS account is needed to access CRSP data through WRDS.\n",
    "- Filters applied in this notebook:\n",
    "  - Only includes fully taxable, non-callable, and non-flower bond issues.\n",
    "  - Certificates of deposit are excluded (ITYPE=3)\n",
    "  - Remove issues whose time series of prices terminate because of ''all exchanged'' (IWHY=3)"
   ]
  },
  {
   "cell_type": "code",
   "execution_count": 1,
   "metadata": {},
   "outputs": [],
   "source": [
    "import os\n",
    "import copy\n",
    "import math\n",
    "import pandas as pd\n",
    "import numpy as np\n",
    "import matplotlib.pyplot as plt\n",
    "from IPython.display import display\n",
    "from datetime import datetime\n",
    "from pandas.tseries.offsets import *"
   ]
  },
  {
   "cell_type": "markdown",
   "metadata": {},
   "source": [
    "# Download raw data from WRDS"
   ]
  },
  {
   "cell_type": "code",
   "execution_count": null,
   "metadata": {},
   "outputs": [],
   "source": [
    "download_data_wrds = True # if set to False, will read saved WRDS raw data from dir_data below\n",
    "username_wrds = '' # WRDS cloud username\n",
    "dir_data = './wrds_raw_data/' # where to save and read WRDS raw data\n",
    "dir_output = './processed_data/' # where to save processed data output\n",
    "\n",
    "if not os.path.exists(dir_data):\n",
    "    os.makedirs(dir_data)\n",
    "if not os.path.exists(dir_output):\n",
    "    os.makedirs(dir_output)\n",
    "\n",
    "if download_data_wrds:\n",
    "    import wrds\n",
    "    db = wrds.Connection(wrds_username=username_wrds)\n",
    "\n",
    "    print('Downloading TFZ_ISS ...')\n",
    "    df_iss = db.get_table(library='crsp', table='TFZ_ISS')\n",
    "    df_iss.to_pickle(dir_data+'df_iss.pkl')\n",
    "    \n",
    "    print('Downloading TFZ_MAST ...')\n",
    "    df_mast = db.get_table(library='crsp', table='TFZ_MAST')\n",
    "    df_mast.to_pickle(dir_data+'df_mast.pkl')\n",
    "    \n",
    "    print('Downloading TFZ_PAY ...')\n",
    "    df_pay = db.get_table(library='crsp', table='TFZ_PAY')\n",
    "    df_pay.to_pickle(dir_data+'df_pay.pkl')\n",
    "    \n",
    "    print('Downloading TFZ_DLY ...')\n",
    "    df_dly = db.get_table(library='crsp', table='TFZ_DLY')\n",
    "    df_dly.to_pickle(dir_data+'df_dly.pkl')\n",
    "    \n",
    "    db.close()\n",
    "else:\n",
    "    print('Loading raw data ...')\n",
    "    df_iss = pd.read_pickle(dir_data+'df_iss.pkl')\n",
    "    df_mast = pd.read_pickle(dir_data+'df_mast.pkl')\n",
    "    df_pay = pd.read_pickle(dir_data+'df_pay.pkl')\n",
    "    df_dly = pd.read_pickle(dir_data+'df_dly.pkl')"
   ]
  },
  {
   "cell_type": "markdown",
   "metadata": {},
   "source": [
    "# Format raw data"
   ]
  },
  {
   "cell_type": "code",
   "execution_count": 4,
   "metadata": {},
   "outputs": [],
   "source": [
    "# change all column names to upper case\n",
    "for df in [df_iss, df_mast, df_pay, df_dly]:\n",
    "    df.columns = [col.upper() for col in df.columns]\n",
    "    \n",
    "df_pay['KYCRSPID'] = df_pay['KYCRSPID'].astype(object)\n",
    "df_dly['KYCRSPID'] = df_dly['KYCRSPID'].astype(object)\n",
    "df_dly['TDIDXRATIO_FLG'] = df_dly['TDIDXRATIO_FLG'].astype(object)\n",
    "\n",
    "# merge df_iss and df_mast into df_info, containing bond information\n",
    "df_info = df_iss.join(df_mast.set_index('KYTREASNO'),on='KYTREASNO',how='outer')\n",
    "\n",
    "# convert all date into pandas datetime format\n",
    "for col in ['TDATDT','TMATDT','TFCPDT','TFCALDT','TBANKDT','TMFSTDAT',\n",
    "            'TMLSTDAT','TDFSTDAT','TDLSTDAT']:\n",
    "    df_info[col] = pd.to_datetime(df_info[col],format='%Y-%m-%d')\n",
    "    \n",
    "# calculate rounded maturity, rounded to the nearest year. This is for filtering later on.\n",
    "df_info['RoundedMaturityYears'] = np.round(((df_info['TMATDT']-df_info['TDATDT']).copy()\\\n",
    "                                          /np.timedelta64(1, 'Y')).values)\n",
    "display(df_info.head())"
   ]
  },
  {
   "cell_type": "markdown",
   "metadata": {},
   "source": [
    "# Format daily prices"
   ]
  },
  {
   "cell_type": "code",
   "execution_count": 6,
   "metadata": {},
   "outputs": [],
   "source": [
    "#replace missing values with NaN\n",
    "df_dly.TDRETNUA.replace(-99, np.nan, inplace = True)\n",
    "df_dly.TDYLD.replace(-99, np.nan, inplace = True)\n",
    "df_dly.TDDURATN.replace(-1, np.nan, inplace = True)\n",
    "df_dly.TDBID.replace(0, np.nan, inplace = True)\n",
    "df_dly.TDASK.replace(0, np.nan, inplace = True)\n",
    "df_dly.TDNOMPRC.replace(0, np.nan, inplace = True)\n",
    "\n",
    "#convert quotation date CALDT into datetime format\n",
    "df_dly['CALDT'] = pd.to_datetime(df_dly['CALDT'],format='%Y-%m-%d')\n",
    "\n",
    "# slice df_info where KYTREASNO is in df_dly\n",
    "# i.e. retain information of only securities whose prices are available\n",
    "df_info_dly = df_info[df_info.KYTREASNO.isin(df_dly.KYTREASNO.unique())]\n",
    "print('Number of KYTREASNO with price data: {}\\n'\n",
    "      'Number of KYTREASNO with info record: {}\\n'\n",
    "      'Number of KYTREASNO in the intersection: {}'\\\n",
    "      .format(df_dly.KYTREASNO.nunique(), len(df_info), len(df_info_dly)))\n",
    "\n",
    "display(df_dly.head())"
   ]
  },
  {
   "cell_type": "markdown",
   "metadata": {},
   "source": [
    "# Format coupon payment information"
   ]
  },
  {
   "cell_type": "code",
   "execution_count": 9,
   "metadata": {},
   "outputs": [],
   "source": [
    "df_pay['TPQDATE'] = pd.to_datetime(df_pay['TPQDATE'],format='%Y-%m-%d')\n",
    "display(df_pay.head())"
   ]
  },
  {
   "cell_type": "markdown",
   "metadata": {},
   "source": [
    "# Get nominal price"
   ]
  },
  {
   "cell_type": "code",
   "execution_count": null,
   "metadata": {},
   "outputs": [],
   "source": [
    "dly_caldt = df_dly.CALDT.unique()\n",
    "dly_caldt.sort()\n",
    "dly_kytreasno = df_dly.KYTREASNO.unique()\n",
    "T = len(dly_caldt)\n",
    "N = len(dly_kytreasno)"
   ]
  },
  {
   "cell_type": "code",
   "execution_count": null,
   "metadata": {},
   "outputs": [],
   "source": [
    "df_nomprc = pd.DataFrame(np.nan,index=dly_caldt,columns=dly_kytreasno)\n",
    "#fill df_nomprc with nominal prices from df_dly\n",
    "for kytreasno in dly_kytreasno:\n",
    "    temp_caldt = df_dly.loc[df_dly.KYTREASNO==kytreasno].CALDT\n",
    "    temp_tdnomprc = df_dly.loc[df_dly.KYTREASNO==kytreasno].TDNOMPRC\n",
    "    df_nomprc.loc[temp_caldt.values,kytreasno] = temp_tdnomprc.values"
   ]
  },
  {
   "cell_type": "markdown",
   "metadata": {},
   "source": [
    "# Get daily unadjusted returns\n",
    "data with index t is return from t-1 to t"
   ]
  },
  {
   "cell_type": "code",
   "execution_count": null,
   "metadata": {},
   "outputs": [],
   "source": [
    "# daily unadjusted returns\n",
    "df_tdretnua = pd.DataFrame(np.nan, index=dly_caldt, columns=dly_kytreasno)\n",
    "\n",
    "for kytreasno in dly_kytreasno:\n",
    "#treasno=dly_kytreasno[100]\n",
    "    temp_caldt = df_dly.loc[df_dly.KYTREASNO==kytreasno].CALDT\n",
    "    temp_tdretnua = df_dly.loc[df_dly.KYTREASNO==kytreasno].TDRETNUA\n",
    "    \n",
    "    df_tdretnua.loc[temp_caldt.values,kytreasno] = temp_tdretnua.values"
   ]
  },
  {
   "cell_type": "markdown",
   "metadata": {},
   "source": [
    "# Select data"
   ]
  },
  {
   "cell_type": "code",
   "execution_count": null,
   "metadata": {},
   "outputs": [],
   "source": [
    "# bond that are still quotes 0 (used to be np.nan)\n",
    "print('number of bonds that are still quotes: {}'.format((df_info_dly.IWHY==0).sum()))\n",
    "#bonds that have matured (iwhy==1)\n",
    "print('number of bonds that have matured: {}'.format((df_info_dly.IWHY==1).sum()))\n",
    "#bonds that are called for redemption (iwhy==2)\n",
    "print('number of bonds that are called: {}'.format((df_info_dly.IWHY==2).sum()))\n",
    "#bonds that are all exchanged (iwhy==3)\n",
    "print('number of bonds that are all exchanged: {}'.format((df_info_dly.IWHY==3).sum()))\n",
    "#Sources no longer quote issue (iwhy==4)\n",
    "print('Sources no longer quote issue: {}'.format((df_info_dly.IWHY==4).sum()))"
   ]
  },
  {
   "cell_type": "code",
   "execution_count": null,
   "metadata": {},
   "outputs": [],
   "source": [
    "# keep only: nonflower, taxable bonds, bonds whose time series end because of maturity.\n",
    "# remove certificate of deposit (ITYPE=3)\n",
    "df_info_dly_s = df_info_dly[(df_info_dly.ITYPE.isin([1,2,4]))&\\\n",
    "(df_info_dly.ITAX==1)&\\\n",
    "(df_info_dly.IFLWR==1)&\\\n",
    "(df_info_dly.IWHY!=3)]\n",
    "\n",
    "df_dly_s = df_dly[df_dly.KYTREASNO.isin(df_info_dly_s.KYTREASNO)]\n",
    "df_pay_s = df_pay[df_pay.KYTREASNO.isin(df_info_dly_s.KYTREASNO)]\n",
    "\n",
    "# 0 means bond not matured yet\n",
    "df_info_dly_s.IWHY.unique()"
   ]
  },
  {
   "cell_type": "code",
   "execution_count": null,
   "metadata": {},
   "outputs": [],
   "source": [
    "dly_caldt = df_dly_s.CALDT.unique()\n",
    "dly_caldt.sort()\n",
    "dly_kytreasno = df_dly_s.KYTREASNO.unique()\n",
    "df_nomprc_s = pd.DataFrame(np.nan,index=dly_caldt,columns=dly_kytreasno)\n",
    "df_tdretnua_s = pd.DataFrame(np.nan,index=dly_caldt,columns=dly_kytreasno)\n",
    "df_tdaccint_s = pd.DataFrame(np.nan,index=dly_caldt,columns=dly_kytreasno)\n",
    "df_tdpdint_s = pd.DataFrame(np.nan,index=dly_caldt,columns=dly_kytreasno)\n",
    "\n",
    "#fill df_nomprc and df_tdretnua with nominal prices from df_dly_s\n",
    "for kytreasno in dly_kytreasno:\n",
    "    temp_caldt = df_dly_s.loc[df_dly_s.KYTREASNO==kytreasno].CALDT\n",
    "    temp_tdnomprc = df_dly_s.loc[df_dly_s.KYTREASNO==kytreasno].TDNOMPRC\n",
    "    # temp_tdretnua=df_dly_s.loc[df_dly_s.KYTREASNO==kytreasno].TDRETNUA\n",
    "    temp_tdaccint = df_dly_s.loc[df_dly_s.KYTREASNO==kytreasno].TDACCINT\n",
    "    temp_tdpdint = df_dly_s.loc[df_dly_s.KYTREASNO==kytreasno].TDPDINT\n",
    "    \n",
    "    df_nomprc_s.loc[temp_caldt.values,kytreasno] = temp_tdnomprc.values\n",
    "    df_tdretnua_s.loc[temp_caldt.values,kytreasno] = temp_tdretnua.values\n",
    "    df_tdaccint_s.loc[temp_caldt.values,kytreasno] = temp_tdaccint.values\n",
    "    df_tdpdint_s.loc[temp_caldt.values,kytreasno] = temp_tdpdint.values "
   ]
  },
  {
   "cell_type": "code",
   "execution_count": null,
   "metadata": {},
   "outputs": [],
   "source": [
    "# B is ex-dividend\n",
    "# Bc is cum dividend\n",
    "df_dly_s['B'] = df_dly_s.TDNOMPRC + df_dly_s.TDACCINT\n",
    "df_dly_s['Bc'] = df_dly_s.TDNOMPRC + df_dly_s.TDACCINT + df_dly_s.TDPDINT\n",
    "\n",
    "df_B = pd.DataFrame(np.nan, index=dly_caldt, columns=dly_kytreasno)\n",
    "df_Bc = pd.DataFrame(np.nan, index=dly_caldt, columns=dly_kytreasno)\n",
    "\n",
    "#fill df_B and df_Bc \n",
    "for kytreasno in dly_kytreasno:\n",
    "    temp_caldt = df_dly_s.loc[df_dly_s.KYTREASNO==kytreasno].CALDT\n",
    "    temp_tdnomprc = df_dly_s.loc[df_dly_s.KYTREASNO==kytreasno][['B','Bc']]\n",
    "    df_B.loc[temp_caldt.values,kytreasno] = temp_tdnomprc.B.values\n",
    "    df_Bc.loc[temp_caldt.values,kytreasno] = temp_tdnomprc.Bc.values"
   ]
  },
  {
   "cell_type": "markdown",
   "metadata": {},
   "source": [
    "# Save processed data"
   ]
  },
  {
   "cell_type": "code",
   "execution_count": 66,
   "metadata": {},
   "outputs": [],
   "source": [
    "# save to pickles\n",
    "if save_to_pickle:\n",
    "#     df_info.to_pickle(dir_out+'df_info.pkl')\n",
    "#     df_dly.to_pickle(dir_out+'df_dly.pkl')\n",
    "#     df_info_dly.to_pickle(dir_out+'df_info_dly.pkl')\n",
    "#     df_pay.to_pickle(dir_out+'df_pay.pkl')\n",
    "#     df_nomprc.to_pickle(dir_out+'df_nomprc.pkl')\n",
    "#     df_tdretnua.to_pickle(dir_out+'df_tdretnua.pkl')\n",
    "\n",
    "    df_info_dly_s.to_pickle(dir_output+'df_info_dly_s.pkl')\n",
    "    df_dly_s.to_pickle(dir_out+'df_dly_s.pkl')\n",
    "    df_pay_s.to_pickle(dir_out+'df_pay_s.pkl')\n",
    "    df_nomprc_s.to_pickle(dir_out+'df_nomprc_s.pkl')\n",
    "    df_tdretnua_s.to_pickle(dir_out+'df_tdretnua_s.pkl')\n",
    "    df_tdaccint_s.to_pickle(dir_out+'df_tdaccint_s.pkl')\n",
    "    df_tdpdint_s.to_pickle(dir_out+'df_tdpdint_s.pkl')\n",
    "    \n",
    "    df_dly_s.to_pickle(dir_output+'df_dly_B_s.pkl')\n",
    "    df_B.to_pickle(dir_output+'df_B_s.pkl')\n",
    "    df_Bc.to_pickle(dir_output+'df_Bc_s.pkl')\n",
    "    \n",
    "    # df_t_lookup.to_pickle(dir_output+'df_t_lookup_daily.pkl')\n",
    "    # df_t_lookup_monthly.to_pickle(dir_output+'df_t_lookup_monthly.pkl')\n",
    "\n",
    "else:\n",
    "    print('not saved')"
   ]
  }
 ],
 "metadata": {
  "kernelspec": {
   "display_name": "Python 3 (ipykernel)",
   "language": "python",
   "name": "python3"
  },
  "language_info": {
   "codemirror_mode": {
    "name": "ipython",
    "version": 3
   },
   "file_extension": ".py",
   "mimetype": "text/x-python",
   "name": "python",
   "nbconvert_exporter": "python",
   "pygments_lexer": "ipython3",
   "version": "3.10.6"
  }
 },
 "nbformat": 4,
 "nbformat_minor": 4
}
