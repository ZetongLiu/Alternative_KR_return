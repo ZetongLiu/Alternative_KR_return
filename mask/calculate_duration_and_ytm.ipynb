{
 "cells": [
  {
   "cell_type": "code",
   "execution_count": 1,
   "id": "afraid-calvin",
   "metadata": {},
   "outputs": [
    {
     "name": "stderr",
     "output_type": "stream",
     "text": [
      "d:\\Document\\EPFL_Coursework\\MasterThesis\\.venv\\Lib\\site-packages\\tqdm\\auto.py:21: TqdmWarning: IProgress not found. Please update jupyter and ipywidgets. See https://ipywidgets.readthedocs.io/en/stable/user_install.html\n",
      "  from .autonotebook import tqdm as notebook_tqdm\n"
     ]
    }
   ],
   "source": [
    "import os\n",
    "import sys\n",
    "\n",
    "import pickle\n",
    "import pandas as pd\n",
    "import numpy as np\n",
    "import matplotlib.pyplot as plt\n",
    "import scipy.sparse as sps\n",
    "import scipy.optimize as opt \n",
    "from tqdm.auto import tqdm\n",
    "\n",
    "sys.path.append('../source/')\n",
    "import utils"
   ]
  },
  {
   "cell_type": "code",
   "execution_count": 2,
   "id": "aware-charles",
   "metadata": {},
   "outputs": [],
   "source": [
    "dir_B = '../B_and_C/B_max_ttm_10yr/'\n",
    "df_t_lookup_daily = pd.read_pickle(dir_B + 'df_t_lookup_daily.pkl')\n",
    "T = len(df_t_lookup_daily)\n",
    "\n",
    "# read price vector \n",
    "B_mat = np.load(dir_B+'B_mat.npy')\n",
    "with open(dir_B+\"dict_par.pkl\", \"rb\") as handle:\n",
    "    dict_par = pickle.load(handle)\n",
    "    \n",
    "prefix_C,Nmax,nmax,dir_npz = [dict_par[key] for key in ['prefix_C','Nmax','nmax','npz_dir']]\n",
    "arr_h = np.arange(1,Nmax+1)\n",
    "\n",
    "dir_out = './' "
   ]
  },
  {
   "cell_type": "markdown",
   "id": "altered-september",
   "metadata": {},
   "source": [
    "# get time to maturity in day"
   ]
  },
  {
   "cell_type": "code",
   "execution_count": 28,
   "id": "included-laser",
   "metadata": {},
   "outputs": [
    {
     "data": {
      "application/vnd.jupyter.widget-view+json": {
       "model_id": "f5b2c1fca9f14592825d0e90ae9ee552",
       "version_major": 2,
       "version_minor": 0
      },
      "text/plain": [
       "  0%|          | 0/15366 [00:00<?, ?it/s]"
      ]
     },
     "metadata": {},
     "output_type": "display_data"
    }
   ],
   "source": [
    "mat_ttm = np.full((T-1,nmax),np.nan)\n",
    "mat_nt = np.full(T-1,np.nan)\n",
    "\n",
    "pbar = tqdm(total=T-1)\n",
    "for t in range(T-1): \n",
    "\n",
    "    B = B_mat[:,t]\n",
    "    csr_mat_name = '.'+dir_npz+prefix_C+'C_'+str(t)+'.npz'\n",
    "\n",
    "    csr_mat = sps.load_npz(csr_mat_name)\n",
    "    nt = np.count_nonzero(B)\n",
    "\n",
    "    #remove empty rows from B and C\n",
    "    B = B[:nt]\n",
    "    C = csr_mat.toarray()[:nt,1:]\n",
    "    #ttm in day, -1 to convert into index\n",
    "    lst_ttm_inday = np.apply_along_axis(lambda row: len(row)-(row!=0)[::-1].argmax(),1,C)\n",
    "    mat_ttm[t,:nt] = lst_ttm_inday\n",
    "    mat_nt[t] = nt\n",
    "    \n",
    "    pbar.update(1)\n",
    "    \n",
    "np.save(dir_out + 'mat_ttm.npy', mat_ttm)\n",
    "np.save(dir_out + 'mat_nt.npy', mat_nt)"
   ]
  },
  {
   "cell_type": "markdown",
   "id": "f754f1d7",
   "metadata": {},
   "source": [
    "# get maturity filter"
   ]
  },
  {
   "cell_type": "code",
   "execution_count": 29,
   "id": "dadcfd71",
   "metadata": {},
   "outputs": [],
   "source": [
    "mat_filter = np.full((T-1, nmax), False)\n",
    "for t in range(T-1):\n",
    "    nt = int(mat_nt[t])\n",
    "    arr_ttm = mat_ttm[t,:nt]\n",
    "    mat_filter[t,:nt][arr_ttm>=90] = True\n",
    "np.save('mat_filter_maturity_90days.npy', mat_filter)"
   ]
  },
  {
   "cell_type": "markdown",
   "id": "willing-handling",
   "metadata": {},
   "source": [
    "# Calculate YTM"
   ]
  },
  {
   "cell_type": "code",
   "execution_count": 31,
   "id": "dutch-glenn",
   "metadata": {},
   "outputs": [
    {
     "data": {
      "application/vnd.jupyter.widget-view+json": {
       "model_id": "f80d78b6750949248d98f106779f3739",
       "version_major": 2,
       "version_minor": 0
      },
      "text/plain": [
       "  0%|          | 0/15366 [00:00<?, ?it/s]"
      ]
     },
     "metadata": {},
     "output_type": "display_data"
    }
   ],
   "source": [
    "mat_dur = np.full((T-1,nmax),np.nan)\n",
    "mat_ytm = np.full((T-1,nmax),np.nan)\n",
    "\n",
    "pbar = tqdm(total=T-1)\n",
    "for t in range(T-1):\n",
    "\n",
    "    B = B_mat[:,t]\n",
    "    csr_mat_name = '.'+dir_npz+prefix_C+'C_'+str(t)+'.npz'\n",
    "    csr_mat = sps.load_npz(csr_mat_name)\n",
    "    \n",
    "    nt = int(mat_nt[t])\n",
    "    B = B[:nt]\n",
    "    C = csr_mat.toarray()[:nt,1:]\n",
    "\n",
    "    for i in range(nt):\n",
    "        C_i,B_i = C[i,:],B[i]\n",
    "        t_cashflow = np.nonzero(C_i)[0]+1 # unit in days. time TO cashflow.\n",
    "        cashflow = C_i[t_cashflow-1]\n",
    "        #calculate annualized ytm and duration\n",
    "        mat_ytm[t,i], mat_dur[t,i] = utils.get_ytm_and_duration(cashflow,t_cashflow,B_i)\n",
    "\n",
    "    pbar.update(1)\n",
    "\n",
    "np.save(dir_out + 'mat_dur.npy', mat_dur)\n",
    "np.save(dir_out + 'mat_ytm.npy', mat_ytm)"
   ]
  }
 ],
 "metadata": {
  "kernelspec": {
   "display_name": "Python 3 (ipykernel)",
   "language": "python",
   "name": "python3"
  },
  "language_info": {
   "codemirror_mode": {
    "name": "ipython",
    "version": 3
   },
   "file_extension": ".py",
   "mimetype": "text/x-python",
   "name": "python",
   "nbconvert_exporter": "python",
   "pygments_lexer": "ipython3",
   "version": "3.11.1"
  }
 },
 "nbformat": 4,
 "nbformat_minor": 5
}
