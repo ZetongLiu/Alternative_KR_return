{
 "cells": [
  {
   "cell_type": "code",
   "execution_count": 2,
   "metadata": {},
   "outputs": [
    {
     "name": "stdout",
     "output_type": "stream",
     "text": [
      "0\n",
      "1961-06-14\n",
      "14865\n",
      "2020-12-31\n"
     ]
    }
   ],
   "source": [
    "import pandas as pd\n",
    "import numpy as np\n",
    "from datetime import datetime\n",
    "import scipy.sparse as sps\n",
    "import pickle\n",
    "import time \n",
    "import argparse\n",
    "import multiprocessing as mp\n",
    "import os\n",
    "import sys\n",
    "\n",
    "from source import utils\n",
    "from source import kernel\n",
    "from source import models\n",
    "\n",
    "dir_B = './B_and_C/B_max_ttm_10yr/'\n",
    "df_t_lookup_freq=pd.read_pickle(dir_B+'df_t_lookup_{}.pkl'.format('daily'))\n",
    "lst_t_freq=np.arange(0,len(df_t_lookup_freq) ,1) \n",
    "\n",
    "for t_freq in lst_t_freq:\n",
    "    t=df_t_lookup_freq.iloc[t_freq].t\n",
    "    today=df_t_lookup_freq.index[t_freq]\n",
    "    today_str=today.strftime('%Y-%m-%d')\n",
    "    if today_str in ['1961-06-01','2020-12-31'] or t_freq==0:\n",
    "        print(t)\n",
    "        print(today_str)\n",
    "\n",
    "\n"
   ]
  }
 ],
 "metadata": {
  "kernelspec": {
   "display_name": ".venv",
   "language": "python",
   "name": "python3"
  },
  "language_info": {
   "codemirror_mode": {
    "name": "ipython",
    "version": 3
   },
   "file_extension": ".py",
   "mimetype": "text/x-python",
   "name": "python",
   "nbconvert_exporter": "python",
   "pygments_lexer": "ipython3",
   "version": "3.11.1"
  }
 },
 "nbformat": 4,
 "nbformat_minor": 2
}
