{
 "cells": [
  {
   "cell_type": "code",
   "execution_count": 2,
   "metadata": {
    "id": "NMnsyQdhNosq"
   },
   "outputs": [],
   "source": [
    "import pandas as pd\n",
    "import numpy as np\n",
    "import pickle"
   ]
  },
  {
   "cell_type": "markdown",
   "metadata": {},
   "source": [
    "# Get risk free rates implied by KR"
   ]
  },
  {
   "cell_type": "code",
   "execution_count": 3,
   "metadata": {},
   "outputs": [],
   "source": [
    "dir_y = '../yield_panel_daily_frequency_daily_maturity.csv'\n",
    "y_KR = pd.read_csv(dir_y, index_col = 0)\n",
    "y_KR.drop(columns=['MAX_DATA_TTM'], inplace=True)\n",
    "\n",
    "Nmax = y_KR.shape[1]\n",
    "g_KR = np.exp(-y_KR*np.arange(1,Nmax+1)/365)\n",
    "df_kr = (1/g_KR['1']-1).to_frame(name='KR_LS')"
   ]
  },
  {
   "cell_type": "code",
   "execution_count": 5,
   "metadata": {},
   "outputs": [
    {
     "data": {
      "text/html": [
       "<div>\n",
       "<style scoped>\n",
       "    .dataframe tbody tr th:only-of-type {\n",
       "        vertical-align: middle;\n",
       "    }\n",
       "\n",
       "    .dataframe tbody tr th {\n",
       "        vertical-align: top;\n",
       "    }\n",
       "\n",
       "    .dataframe thead th {\n",
       "        text-align: right;\n",
       "    }\n",
       "</style>\n",
       "<table border=\"1\" class=\"dataframe\">\n",
       "  <thead>\n",
       "    <tr style=\"text-align: right;\">\n",
       "      <th></th>\n",
       "      <th>Unnamed: 0</th>\n",
       "      <th>MAX_DATA_TTM</th>\n",
       "      <th>1</th>\n",
       "      <th>2</th>\n",
       "      <th>3</th>\n",
       "      <th>4</th>\n",
       "      <th>5</th>\n",
       "      <th>6</th>\n",
       "      <th>7</th>\n",
       "      <th>8</th>\n",
       "      <th>...</th>\n",
       "      <th>10941</th>\n",
       "      <th>10942</th>\n",
       "      <th>10943</th>\n",
       "      <th>10944</th>\n",
       "      <th>10945</th>\n",
       "      <th>10946</th>\n",
       "      <th>10947</th>\n",
       "      <th>10948</th>\n",
       "      <th>10949</th>\n",
       "      <th>10950</th>\n",
       "    </tr>\n",
       "  </thead>\n",
       "  <tbody>\n",
       "    <tr>\n",
       "      <th>0</th>\n",
       "      <td>1961-06-14</td>\n",
       "      <td>2527</td>\n",
       "      <td>0.022483</td>\n",
       "      <td>0.022484</td>\n",
       "      <td>0.022486</td>\n",
       "      <td>0.022487</td>\n",
       "      <td>0.022489</td>\n",
       "      <td>0.022491</td>\n",
       "      <td>0.022493</td>\n",
       "      <td>0.022496</td>\n",
       "      <td>...</td>\n",
       "      <td>NaN</td>\n",
       "      <td>NaN</td>\n",
       "      <td>NaN</td>\n",
       "      <td>NaN</td>\n",
       "      <td>NaN</td>\n",
       "      <td>NaN</td>\n",
       "      <td>NaN</td>\n",
       "      <td>NaN</td>\n",
       "      <td>NaN</td>\n",
       "      <td>NaN</td>\n",
       "    </tr>\n",
       "    <tr>\n",
       "      <th>1</th>\n",
       "      <td>1961-06-15</td>\n",
       "      <td>2526</td>\n",
       "      <td>0.022539</td>\n",
       "      <td>0.022540</td>\n",
       "      <td>0.022541</td>\n",
       "      <td>0.022542</td>\n",
       "      <td>0.022544</td>\n",
       "      <td>0.022546</td>\n",
       "      <td>0.022548</td>\n",
       "      <td>0.022551</td>\n",
       "      <td>...</td>\n",
       "      <td>NaN</td>\n",
       "      <td>NaN</td>\n",
       "      <td>NaN</td>\n",
       "      <td>NaN</td>\n",
       "      <td>NaN</td>\n",
       "      <td>NaN</td>\n",
       "      <td>NaN</td>\n",
       "      <td>NaN</td>\n",
       "      <td>NaN</td>\n",
       "      <td>NaN</td>\n",
       "    </tr>\n",
       "    <tr>\n",
       "      <th>2</th>\n",
       "      <td>1961-06-16</td>\n",
       "      <td>2525</td>\n",
       "      <td>0.022413</td>\n",
       "      <td>0.022414</td>\n",
       "      <td>0.022415</td>\n",
       "      <td>0.022417</td>\n",
       "      <td>0.022418</td>\n",
       "      <td>0.022420</td>\n",
       "      <td>0.022423</td>\n",
       "      <td>0.022425</td>\n",
       "      <td>...</td>\n",
       "      <td>NaN</td>\n",
       "      <td>NaN</td>\n",
       "      <td>NaN</td>\n",
       "      <td>NaN</td>\n",
       "      <td>NaN</td>\n",
       "      <td>NaN</td>\n",
       "      <td>NaN</td>\n",
       "      <td>NaN</td>\n",
       "      <td>NaN</td>\n",
       "      <td>NaN</td>\n",
       "    </tr>\n",
       "    <tr>\n",
       "      <th>3</th>\n",
       "      <td>1961-06-19</td>\n",
       "      <td>2522</td>\n",
       "      <td>0.022606</td>\n",
       "      <td>0.022607</td>\n",
       "      <td>0.022608</td>\n",
       "      <td>0.022610</td>\n",
       "      <td>0.022612</td>\n",
       "      <td>0.022614</td>\n",
       "      <td>0.022616</td>\n",
       "      <td>0.022618</td>\n",
       "      <td>...</td>\n",
       "      <td>NaN</td>\n",
       "      <td>NaN</td>\n",
       "      <td>NaN</td>\n",
       "      <td>NaN</td>\n",
       "      <td>NaN</td>\n",
       "      <td>NaN</td>\n",
       "      <td>NaN</td>\n",
       "      <td>NaN</td>\n",
       "      <td>NaN</td>\n",
       "      <td>NaN</td>\n",
       "    </tr>\n",
       "    <tr>\n",
       "      <th>4</th>\n",
       "      <td>1961-06-20</td>\n",
       "      <td>2521</td>\n",
       "      <td>0.022430</td>\n",
       "      <td>0.022431</td>\n",
       "      <td>0.022432</td>\n",
       "      <td>0.022433</td>\n",
       "      <td>0.022435</td>\n",
       "      <td>0.022437</td>\n",
       "      <td>0.022440</td>\n",
       "      <td>0.022442</td>\n",
       "      <td>...</td>\n",
       "      <td>NaN</td>\n",
       "      <td>NaN</td>\n",
       "      <td>NaN</td>\n",
       "      <td>NaN</td>\n",
       "      <td>NaN</td>\n",
       "      <td>NaN</td>\n",
       "      <td>NaN</td>\n",
       "      <td>NaN</td>\n",
       "      <td>NaN</td>\n",
       "      <td>NaN</td>\n",
       "    </tr>\n",
       "  </tbody>\n",
       "</table>\n",
       "<p>5 rows × 10952 columns</p>\n",
       "</div>"
      ],
      "text/plain": [
       "   Unnamed: 0  MAX_DATA_TTM         1         2         3         4         5  \\\n",
       "0  1961-06-14          2527  0.022483  0.022484  0.022486  0.022487  0.022489   \n",
       "1  1961-06-15          2526  0.022539  0.022540  0.022541  0.022542  0.022544   \n",
       "2  1961-06-16          2525  0.022413  0.022414  0.022415  0.022417  0.022418   \n",
       "3  1961-06-19          2522  0.022606  0.022607  0.022608  0.022610  0.022612   \n",
       "4  1961-06-20          2521  0.022430  0.022431  0.022432  0.022433  0.022435   \n",
       "\n",
       "          6         7         8  ...  10941  10942  10943  10944  10945  \\\n",
       "0  0.022491  0.022493  0.022496  ...    NaN    NaN    NaN    NaN    NaN   \n",
       "1  0.022546  0.022548  0.022551  ...    NaN    NaN    NaN    NaN    NaN   \n",
       "2  0.022420  0.022423  0.022425  ...    NaN    NaN    NaN    NaN    NaN   \n",
       "3  0.022614  0.022616  0.022618  ...    NaN    NaN    NaN    NaN    NaN   \n",
       "4  0.022437  0.022440  0.022442  ...    NaN    NaN    NaN    NaN    NaN   \n",
       "\n",
       "   10946  10947  10948  10949  10950  \n",
       "0    NaN    NaN    NaN    NaN    NaN  \n",
       "1    NaN    NaN    NaN    NaN    NaN  \n",
       "2    NaN    NaN    NaN    NaN    NaN  \n",
       "3    NaN    NaN    NaN    NaN    NaN  \n",
       "4    NaN    NaN    NaN    NaN    NaN  \n",
       "\n",
       "[5 rows x 10952 columns]"
      ]
     },
     "execution_count": 5,
     "metadata": {},
     "output_type": "execute_result"
    }
   ],
   "source": [
    "g_KR.shape\n",
    "\n",
    "y = pd.read_csv(dir_y)\n",
    "y.head()"
   ]
  },
  {
   "cell_type": "code",
   "execution_count": 16,
   "metadata": {},
   "outputs": [
    {
     "data": {
      "text/plain": [
       "(15539, 1)"
      ]
     },
     "execution_count": 16,
     "metadata": {},
     "output_type": "execute_result"
    }
   ],
   "source": [
    "df_kr.shape"
   ]
  },
  {
   "cell_type": "markdown",
   "metadata": {},
   "source": [
    "# Save"
   ]
  },
  {
   "cell_type": "code",
   "execution_count": 8,
   "metadata": {},
   "outputs": [],
   "source": [
    "df_kr.to_pickle('./df_riskfree_daily_all.pkl')\n",
    "g_KR.to_pickle('./df_kr_g.pkl')"
   ]
  }
 ],
 "metadata": {
  "colab": {
   "provenance": []
  },
  "kernelspec": {
   "display_name": "Python 3 (ipykernel)",
   "language": "python",
   "name": "python3"
  },
  "language_info": {
   "codemirror_mode": {
    "name": "ipython",
    "version": 3
   },
   "file_extension": ".py",
   "mimetype": "text/x-python",
   "name": "python",
   "nbconvert_exporter": "python",
   "pygments_lexer": "ipython3",
   "version": "3.11.1"
  }
 },
 "nbformat": 4,
 "nbformat_minor": 4
}
