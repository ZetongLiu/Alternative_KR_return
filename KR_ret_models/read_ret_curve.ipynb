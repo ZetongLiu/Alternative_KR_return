{
 "cells": [
  {
   "cell_type": "code",
   "execution_count": 1,
   "metadata": {
    "id": "YqXq2IuuEem3"
   },
   "outputs": [
    {
     "name": "stderr",
     "output_type": "stream",
     "text": [
      "d:\\Document\\EPFL_Coursework\\MasterThesis\\.venv\\Lib\\site-packages\\tqdm\\auto.py:21: TqdmWarning: IProgress not found. Please update jupyter and ipywidgets. See https://ipywidgets.readthedocs.io/en/stable/user_install.html\n",
      "  from .autonotebook import tqdm as notebook_tqdm\n"
     ]
    }
   ],
   "source": [
    "import pickle\n",
    "import numpy as np\n",
    "import pandas as pd\n",
    "import os\n",
    "import seaborn as sns\n",
    "import matplotlib.pyplot as plt\n",
    "import scipy.sparse as sps\n",
    "import sys\n",
    "from tqdm.auto import tqdm"
   ]
  },
  {
   "cell_type": "code",
   "execution_count": 8,
   "metadata": {
    "id": "Q_VMYSVAEem7",
    "outputId": "14721f8f-68a6-47d1-a6c7-7c2b8b6b3d3f"
   },
   "outputs": [
    {
     "name": "stdout",
     "output_type": "stream",
     "text": [
      "./ret_curve_R_10_alpha_0.05_ridge_10.0_RF_KR_LS_daily_ver_1/\n"
     ]
    }
   ],
   "source": [
    "# options for calc return\n",
    "calc_ret=True # cal or read from saved results\n",
    "save_ret=True\n",
    "R_max_calc_ret=10\n",
    "\n",
    "idx_ver=1\n",
    "R=10\n",
    "alpha=0.05\n",
    "delta=0.0\n",
    "l_fixed=10.0\n",
    "rf_source='KR_LS'\n",
    "\n",
    "dir_B='../B_and_C/B_max_ttm_10yr/'\n",
    "dir_disc='./ret_curve_R_{}_alpha_{}_ridge_{}_RF_{}_daily_ver_{}/'.format(R, alpha, l_fixed, rf_source, idx_ver)\n",
    "print(dir_disc)\n",
    "\n",
    "dir_out='./summary_results/summary_ret_curve_R_{}_alpha_{}_ridge_{}_RF_{}_daily_ver_{}/'\\\n",
    "    .format(R, alpha, l_fixed, rf_source, idx_ver)\n",
    "if not os.path.isdir(dir_out):\n",
    "    os.makedirs(dir_out)\n",
    "    \n",
    "### load daily risk-free rate\n",
    "df_rf=pd.read_pickle('../data_supplement/df_riskfree_daily_all.pkl').KR_LS\n",
    "\n",
    "# load lookup table\n",
    "df_t_lookup_freq=pd.read_pickle(dir_B+'df_t_lookup_{}.pkl'.format('daily'))\n",
    "df_t_lookup_freq=df_t_lookup_freq.iloc[:-1]\n",
    "\n",
    "# T=len(df_t_lookup_freq)\n",
    "T=14865\n",
    "\n",
    "date_index=df_t_lookup_freq.index[:T]\n",
    "\n",
    "# load price and return\n",
    "B_mat=np.load(dir_B+'B_mat.npy')\n",
    "Bc_shift_mat=np.load(dir_B+'Bc_shift_mat.npy')\n",
    "\n",
    "\n",
    "# load param\n",
    "with open(dir_B+\"dict_par.pkl\", \"rb\") as handle:\n",
    "    dict_par = pickle.load(handle)\n",
    "nmax,Nmax,prefix_C,dir_npz=[dict_par[key] for key in ['nmax','Nmax','prefix_C','npz_dir']]\n",
    "\n",
    "# load estimate of zcb monthly return for sanity check\n",
    "df_g = pd.read_pickle('../data_supplement/df_kr_g.pkl')\n",
    "\n",
    "### load mask\n",
    "dir_mask='../mask/'\n",
    "mat_mask_maturity=np.load(dir_mask+'mat_filter_maturity_90days.npy')\n",
    "mat_nt=np.load(dir_mask+'mat_nt.npy')\n",
    "mat_ytm=np.load(dir_mask+'mat_ytm.npy')\n",
    "    "
   ]
  },
  {
   "cell_type": "markdown",
   "metadata": {
    "id": "Umoyq2PREem_"
   },
   "source": [
    "# Read estimates"
   ]
  },
  {
   "cell_type": "code",
   "execution_count": null,
   "metadata": {
    "colab": {
     "referenced_widgets": [
      "19ae50a461784bd69cc082cbe1e1d0ad"
     ]
    },
    "id": "h3rFCzqDEenA",
    "outputId": "977af656-5e5a-4613-e0cd-e4322de189ce"
   },
   "outputs": [],
   "source": [
    "arr_date_s=np.full(T, np.nan)\n",
    "\n",
    "if calc_ret:\n",
    "    dict_ret={'mat_rx_g':np.full((T,Nmax),np.nan), # fit of zcb_ret_excess\n",
    "              'mat_ret_g':np.full((T,Nmax),np.nan), # fit of zcb_ret\n",
    "             'mat_rx':np.full((T,nmax),np.nan), # fit of rx of bonds\n",
    "              'arr_rmse':np.full(T,np.nan)# quality of rx fit\n",
    "             }\n",
    "    for r in range(1,R_max_calc_ret+1):\n",
    "        dict_ret[r]={'mat_rx_g':np.full((T,Nmax),np.nan),# fit of zcb_ret_excess\n",
    "                     'mat_ret_g':np.full((T,Nmax),np.nan),# fit of zcb_ret\n",
    "                     'mat_rx':np.full((T,nmax),np.nan),# fit of rx of bonds\n",
    "                     'mat_F_rx':np.full((T,r),np.nan),# rx of factors with sign normalization\n",
    "                     'mat_F_ret':np.full((T,r),np.nan), # return of factors with sign normalization\n",
    "                     'mat_F_ret_1':np.full((T,r),np.nan), # temp\n",
    "                     'mat_F_ret_2':np.full((T,r),np.nan), # temp\n",
    "                     'arr_rmse':np.full((T,r),np.nan), # quality of rx fit\n",
    "                     'arr_sign':np.full(T,np.nan) # sign array to multiply with VD^{1/2}\n",
    "                    }\n",
    "    \n",
    "    pbar=tqdm(total=T)\n",
    "    # T_sample=14865\n",
    "    # for t_freq in range(0,T_sample+1):\n",
    "    for t_freq in range(0,T):\n",
    "        t=df_t_lookup_freq.iloc[t_freq].t\n",
    "        with open(dir_disc+'dict_ret_curve_tfreq_{}_t_{}.pkl'.format(t_freq,t),\\\n",
    "                  \"rb\") as handle:\n",
    "            dict_t = pickle.load(handle) \n",
    "            \n",
    "        ret=dict_t['ret']\n",
    "        rf=dict_t['rf'] # multiple days\n",
    "        nt=dict_t['dict_full']['rx_full'].shape[0]\n",
    "        arr_date_s[t_freq]=dict_t['date_s']\n",
    "        \n",
    "        dict_ret['mat_rx_g'][t_freq,:]=dict_t['dict_full']['rx_g_full'] \n",
    "        dict_ret['mat_ret_g'][t_freq,:]=dict_t['dict_full']['rx_g_full']+rf\n",
    "        dict_ret['mat_rx'][t_freq,:nt]=dict_t['dict_full']['rx_full'] \n",
    "        dict_ret['arr_rmse'][t_freq]=dict_t['dict_full']['rmse'] \n",
    "        \n",
    "        for r in range(1,R_max_calc_ret+1):\n",
    "            dict_ret[r]['mat_rx_g'][t_freq,:]=dict_t['dict_fm'][r]['rx_g_fm']\n",
    "            dict_ret[r]['mat_ret_g'][t_freq,:]=dict_t['dict_fm'][r]['rx_g_fm']+rf\n",
    "            dict_ret[r]['mat_rx'][t_freq,:nt]=dict_t['dict_fm'][r]['rx_fm']\n",
    "            dict_ret[r]['mat_F_rx'][t_freq,:]=dict_t['dict_fm'][r]['F_rx_fm']\n",
    "            dict_ret[r]['arr_rmse'][t_freq]=dict_t['dict_fm'][r]['rmse_fm']\n",
    "            \n",
    "            # return of factor\n",
    "            w_fm_1=dict_t['dict_fm'][r]['w_fm']\n",
    "            w_fm_2=-1*w_fm_1\n",
    "            \n",
    "            F_ret_fm_1=w_fm_1@ret+(1-w_fm_1@np.ones(nt))*rf\n",
    "            F_ret_fm_2=w_fm_2@ret+(1-w_fm_2@np.ones(nt))*rf\n",
    "            \n",
    "            dict_ret[r]['mat_F_ret_1'][t_freq,:]=F_ret_fm_1\n",
    "            dict_ret[r]['mat_F_ret_2'][t_freq,:]=F_ret_fm_2\n",
    "\n",
    "        pbar.update(1)\n",
    "        \n",
    "    # normalize sign of factor\n",
    "    for r in range(1,R_max_calc_ret+1):\n",
    "        arr_sign=np.sign(dict_ret[r]['mat_F_rx'].mean(axis=0))\n",
    "        dict_ret[r]['mat_F_rx']=dict_ret[r]['mat_F_rx']*arr_sign\n",
    "        for j in range(r):\n",
    "            if arr_sign[j]==1:\n",
    "                dict_ret[r]['mat_F_ret'][:,j]=dict_ret[r]['mat_F_ret_1'][:,j]\n",
    "            else:\n",
    "                dict_ret[r]['mat_F_ret'][:,j]=dict_ret[r]['mat_F_ret_2'][:,j]\n",
    "        del dict_ret[r]['mat_F_ret_1']\n",
    "        del dict_ret[r]['mat_F_ret_2'] \n",
    "        dict_ret[r]['arr_sign']=arr_sign\n",
    "            \n",
    "    if save_ret:\n",
    "        with open(dir_out+'dict_ret.pkl','wb') as handle:\n",
    "            pickle.dump(dict_ret,handle,protocol=pickle.HIGHEST_PROTOCOL)\n",
    "else:\n",
    "    with open(dir_out+'dict_ret.pkl',\"rb\") as handle:\n",
    "        dict_ret = pickle.load(handle) "
   ]
  },
  {
   "cell_type": "markdown",
   "metadata": {},
   "source": []
  },
  {
   "cell_type": "markdown",
   "metadata": {
    "id": "nN1WvloxEenF"
   },
   "source": [
    "# Compile results"
   ]
  },
  {
   "cell_type": "code",
   "execution_count": null,
   "metadata": {
    "id": "WQrj2xn_EenG"
   },
   "outputs": [],
   "source": [
    "date_index=df_t_lookup_freq.index[:T]\n",
    "dict_factor=dict()\n",
    "\n",
    "for r in range(1,R_max_calc_ret+1):\n",
    "    # factors based on rx\n",
    "    df_factor_rx_daily=pd.DataFrame(index=date_index,\n",
    "                 data=dict_ret[r]['mat_F_rx'],\n",
    "                 columns=np.arange(1,r+1))\n",
    "    # daily return (not rx) of factors\n",
    "    df_factor_ret_daily=pd.DataFrame(index=date_index,\n",
    "                 data=dict_ret[r]['mat_F_ret'],\n",
    "                 columns=np.arange(1,r+1))    \n",
    "    \n",
    "    dict_factor[r]={'df_factor_rx_daily':df_factor_rx_daily,\n",
    "                   'df_factor_ret_daily':df_factor_ret_daily,\n",
    "                    'arr_sign':dict_ret[r]['arr_sign']\n",
    "                   }"
   ]
  },
  {
   "cell_type": "markdown",
   "metadata": {
    "id": "8kCvi65HEenG"
   },
   "source": [
    "# daily return and rx"
   ]
  },
  {
   "cell_type": "code",
   "execution_count": null,
   "metadata": {
    "id": "-IjhmEnVEenG"
   },
   "outputs": [],
   "source": [
    "df_zcb_ret_daily=pd.DataFrame(index=date_index,\n",
    "                              data=dict_ret['mat_ret_g'],\n",
    "                              columns=np.arange(1,Nmax+1))\n",
    "df_zcb_rx_daily=pd.DataFrame(index=date_index,\n",
    "                              data=dict_ret['mat_rx_g'],\n",
    "                              columns=np.arange(1,Nmax+1))\n",
    "dict_zcb={'df_zcb_ret_daily':df_zcb_ret_daily,\n",
    "           'df_zcb_rx_daily':df_zcb_rx_daily\n",
    "           }"
   ]
  },
  {
   "cell_type": "code",
   "execution_count": 3,
   "metadata": {
    "id": "DWnaSYwpEenG"
   },
   "outputs": [],
   "source": [
    "# get daily return and rx implied by df_g_daily\n",
    "# and compare with fitted values\n",
    "\n",
    "arr_ret_imp = np.full((T-1,Nmax),np.nan)\n",
    "arr_rx_imp = np.full((T-1,Nmax),np.nan)\n",
    "for t in range(T-1):\n",
    "    df_g_t = df_g.iloc[t]\n",
    "    df_g_next = df_g.iloc[t+1]\n",
    "    date_s = (pd.to_datetime(df_g.index[t+1])-pd.to_datetime(df_g.index[t])).days\n",
    "\n",
    "    g_t = df_g_t.values\n",
    "    g_next_shift = np.roll(df_g_next,date_s)\n",
    "    g_next_shift[date_s-1] = 1\n",
    "    g_next_shift[:date_s-1] = np.nan\n",
    "\n",
    "    ret = (g_next_shift-g_t)/g_t\n",
    "    rf = (1+df_rf.loc[df_g.index[t]])**date_s-1\n",
    "    rx = ret-rf\n",
    "    \n",
    "    arr_ret_imp[t] = ret[:Nmax]\n",
    "    arr_rx_imp[t] = rx[:Nmax]\n",
    "\n",
    "df_zcb_ret_imp = pd.DataFrame(index=date_index[:-1],\n",
    "                            data=arr_ret_imp,\n",
    "                           columns=np.arange(1,Nmax+1))\n",
    "df_zcb_rx_imp = pd.DataFrame(index=date_index[:-1],\n",
    "                            data=arr_rx_imp,\n",
    "                           columns=np.arange(1,Nmax+1))"
   ]
  },
  {
   "cell_type": "code",
   "execution_count": 4,
   "metadata": {},
   "outputs": [
    {
     "name": "stdout",
     "output_type": "stream",
     "text": [
      "dict_keys(['df_zcb_ret_imp', 'df_zcb_rx_imp'])\n"
     ]
    }
   ],
   "source": [
    "dict_zcb_imp={'df_zcb_ret_imp':df_zcb_ret_imp,\n",
    "           'df_zcb_rx_imp':df_zcb_rx_imp\n",
    "           }\n",
    "\n",
    "with open(dir_out+'dict_zcb_imp.pkl','wb') as handle:\n",
    "        pickle.dump(dict_zcb_imp,handle,protocol=pickle.HIGHEST_PROTOCOL)\n",
    "print(dict_zcb_imp.keys())"
   ]
  },
  {
   "cell_type": "code",
   "execution_count": null,
   "metadata": {},
   "outputs": [],
   "source": [
    "# df_zcb_ret_daily.info()\n",
    "from sklearn.decomposition import PCA\n",
    "# from sklearn.preprocessing import StandardScaler\n",
    "\n",
    "X=df_zcb_rx_daily\n",
    "centered_X=X-X.mean(axis=0)\n",
    "pca = PCA(n_components=6)\n",
    "pca.fit(centered_X)\n",
    "A=pca.components_.T\n",
    "A_normalzied=A/np.linalg.norm(A, axis=0)\n",
    "fig, axs = plt.subplots(2,3, figsize=(15,10))\n",
    "\n",
    "for i in range(6):\n",
    "    row = i//3\n",
    "    col = i %3\n",
    "    a_i = A_normalzied[:,i]\n",
    "    axs[row, col].plot(a_i)\n",
    "    axs[row, col].set_title(f'Loading {i+1}')\n",
    "    axs[row, col].set_xlabel('Feature Index')\n",
    "    axs[row, col].set_xlabel('PCA')\n",
    "\n",
    "plt.tight_layout()\n",
    "\n",
    "plt.show()"
   ]
  },
  {
   "cell_type": "code",
   "execution_count": 5,
   "metadata": {},
   "outputs": [
    {
     "data": {
      "image/png": "[encoded data removed]",
      "text/plain": [
       "<Figure size 800x600 with 1 Axes>"
      ]
     },
     "metadata": {},
     "output_type": "display_data"
    }
   ],
   "source": [
    "example_date = '2017-03-22'\n",
    "\n",
    "dict_zcb=pd.read_pickle(dir_out+'dict_zcb.pkl')\n",
    "df_zcb_rx_daily=dict_zcb['df_zcb_rx_daily']\n",
    "fig=plt.figure(figsize=(8,6))\n",
    "plt.plot(df_zcb_rx_daily.loc[example_date],label='fitted')\n",
    "plt.plot(df_zcb_rx_imp.loc[example_date],label='implied')\n",
    "plt.title('Fitted and implied excess returns of zero coupon dicount curve on {}'.format(example_date))\n",
    "plt.legend()\n",
    "plt.show()"
   ]
  },
  {
   "cell_type": "code",
   "execution_count": 10,
   "metadata": {},
   "outputs": [
    {
     "data": {
      "image/png": "[encoded data removed]",
      "text/plain": [
       "<Figure size 800x600 with 1 Axes>"
      ]
     },
     "metadata": {},
     "output_type": "display_data"
    }
   ],
   "source": [
    "import seaborn as sns\n",
    "\n",
    "example_date = '2017-03-22'\n",
    "\n",
    "dict_zcb = pd.read_pickle(dir_out + 'dict_zcb.pkl')\n",
    "df_zcb_rx_daily = dict_zcb['df_zcb_rx_daily']\n",
    "\n",
    "fig, ax = plt.subplots(figsize=(8, 6))\n",
    "sns.lineplot(data=df_zcb_rx_daily.loc[example_date], ax=ax, label='fitted')\n",
    "sns.lineplot(data=df_zcb_rx_imp.loc[example_date], ax=ax, label='implied')\n",
    "ax.set_title('Fitted and implied excess returns of zero coupon discount curve on {}'.format(example_date))\n",
    "ax.legend()\n",
    "plt.show()\n"
   ]
  },
  {
   "cell_type": "markdown",
   "metadata": {
    "id": "w1dwsD2QEenK"
   },
   "source": [
    "# Cumulative returns of factors"
   ]
  },
  {
   "cell_type": "code",
   "execution_count": null,
   "metadata": {},
   "outputs": [],
   "source": [
    "r = 4\n",
    "bbox_to_anchor = (1,1)\n",
    "color_cycler = ['#1f77b4', '#ff7f0e', '#2ca02c', '#d62728', '#9467bd', '#8c564b', \n",
    "        '#e377c2', '#7f7f7f', '#bcbd22', '#17becf','b']\n",
    "\n",
    "df_ret = dict_factor[r]['df_factor_ret_daily']\n",
    "df_rx = dict_factor[r]['df_factor_rx_daily']\n",
    "df_rf.index = pd.to_datetime(df_rf.index)\n",
    "\n",
    "### Cumulative returns in r-factor model, with KR RF\n",
    "fig=plt.figure(figsize=(7,6))\n",
    "ax=fig.add_subplot(1,1,1)\n",
    "ax.grid(False)\n",
    "\n",
    "for j in range(1,r+1):\n",
    "    ax.plot(np.cumprod(df_ret[j]+1,axis=0),label='Factor {}'.format(j),\n",
    "           c=color_cycler[j-1])\n",
    "ax.plot(np.cumprod(df_rf+1,axis=0),label='Risk-free rate', color='black')\n",
    "ax.legend(bbox_to_anchor=bbox_to_anchor, loc=\"upper left\", framealpha=0.5)\n",
    "\n",
    "\n",
    "### Cumulative excess returns in r-factor model\n",
    "fig=plt.figure(figsize=(7,6))\n",
    "ax=fig.add_subplot(1,1,1)\n",
    "ax.grid(False)\n",
    "\n",
    "for j in range(1,r+1):\n",
    "    ax.plot(np.cumprod(df_rx[j]+1,axis=0),label='Factor {}'.format(j),\n",
    "           c=color_cycler[j-1])"
   ]
  },
  {
   "cell_type": "markdown",
   "metadata": {
    "id": "IcuxD4oKEenU"
   },
   "source": [
    "# save to output"
   ]
  },
  {
   "cell_type": "code",
   "execution_count": null,
   "metadata": {
    "id": "gIOsj9DFEenU",
    "outputId": "459f80ca-7d93-4d00-83cf-f09dab292d64"
   },
   "outputs": [],
   "source": [
    "# factor return (daily), rx (daily)\n",
    "# with open(dir_out+'dict_factor.pkl','wb') as handle:\n",
    "#         pickle.dump(dict_factor,handle,protocol=pickle.HIGHEST_PROTOCOL)\n",
    "# print(dict_factor.keys())\n",
    "# print(dict_factor[1].keys())\n",
    "\n",
    "\n",
    "with open(dir_out+'dict_zcb.pkl','wb') as handle:\n",
    "        pickle.dump(dict_zcb,handle,protocol=pickle.HIGHEST_PROTOCOL)\n",
    "print(dict_zcb.keys())\n"
   ]
  },
  {
   "cell_type": "code",
   "execution_count": 4,
   "metadata": {},
   "outputs": [],
   "source": [
    "# dir_base='../Code/Alternative_KR_return'\n",
    "kkk=pd.read_pickle('../data_supplement/df_riskfree_daily_all.pkl').KR_LS\n",
    "kkk.index = pd.to_datetime(kkk.index)\n",
    "k_2023=kkk[kkk.index.year==2023]"
   ]
  },
  {
   "cell_type": "code",
   "execution_count": 6,
   "metadata": {},
   "outputs": [
    {
     "name": "stdout",
     "output_type": "stream",
     "text": [
      "2023-01-03 00:00:00\n",
      "2023-01-04 00:00:00\n",
      "2023-01-05 00:00:00\n",
      "2023-01-06 00:00:00\n",
      "2023-01-09 00:00:00\n",
      "2023-01-10 00:00:00\n",
      "2023-01-11 00:00:00\n",
      "2023-01-12 00:00:00\n",
      "2023-01-13 00:00:00\n",
      "2023-01-17 00:00:00\n",
      "2023-01-18 00:00:00\n",
      "2023-01-19 00:00:00\n",
      "2023-01-20 00:00:00\n",
      "2023-01-23 00:00:00\n",
      "2023-01-24 00:00:00\n",
      "2023-01-25 00:00:00\n",
      "2023-01-26 00:00:00\n",
      "2023-01-27 00:00:00\n",
      "2023-01-30 00:00:00\n",
      "2023-01-31 00:00:00\n",
      "2023-02-01 00:00:00\n",
      "2023-02-02 00:00:00\n",
      "2023-02-03 00:00:00\n",
      "2023-02-06 00:00:00\n",
      "2023-02-07 00:00:00\n",
      "2023-02-08 00:00:00\n",
      "2023-02-09 00:00:00\n",
      "2023-02-10 00:00:00\n",
      "2023-02-13 00:00:00\n",
      "2023-02-14 00:00:00\n",
      "2023-02-15 00:00:00\n",
      "2023-02-16 00:00:00\n",
      "2023-02-17 00:00:00\n",
      "2023-02-21 00:00:00\n",
      "2023-02-22 00:00:00\n",
      "2023-02-23 00:00:00\n",
      "2023-02-24 00:00:00\n",
      "2023-02-27 00:00:00\n",
      "2023-02-28 00:00:00\n",
      "2023-03-01 00:00:00\n",
      "2023-03-02 00:00:00\n",
      "2023-03-03 00:00:00\n",
      "2023-03-06 00:00:00\n",
      "2023-03-07 00:00:00\n",
      "2023-03-08 00:00:00\n",
      "2023-03-09 00:00:00\n",
      "2023-03-10 00:00:00\n",
      "2023-03-13 00:00:00\n",
      "2023-03-14 00:00:00\n",
      "2023-03-15 00:00:00\n",
      "2023-03-16 00:00:00\n",
      "2023-03-17 00:00:00\n",
      "2023-03-20 00:00:00\n",
      "2023-03-21 00:00:00\n",
      "2023-03-22 00:00:00\n",
      "2023-03-23 00:00:00\n",
      "2023-03-24 00:00:00\n",
      "2023-03-27 00:00:00\n",
      "2023-03-28 00:00:00\n",
      "2023-03-29 00:00:00\n",
      "2023-03-30 00:00:00\n",
      "2023-03-31 00:00:00\n",
      "2023-04-03 00:00:00\n",
      "2023-04-04 00:00:00\n",
      "2023-04-05 00:00:00\n",
      "2023-04-06 00:00:00\n",
      "2023-04-07 00:00:00\n",
      "2023-04-10 00:00:00\n",
      "2023-04-11 00:00:00\n",
      "2023-04-12 00:00:00\n",
      "2023-04-13 00:00:00\n",
      "2023-04-14 00:00:00\n",
      "2023-04-17 00:00:00\n",
      "2023-04-18 00:00:00\n",
      "2023-04-19 00:00:00\n",
      "2023-04-20 00:00:00\n",
      "2023-04-21 00:00:00\n",
      "2023-04-24 00:00:00\n",
      "2023-04-25 00:00:00\n",
      "2023-04-26 00:00:00\n",
      "2023-04-27 00:00:00\n",
      "2023-04-28 00:00:00\n",
      "2023-05-01 00:00:00\n",
      "2023-05-02 00:00:00\n",
      "2023-05-03 00:00:00\n",
      "2023-05-04 00:00:00\n",
      "2023-05-05 00:00:00\n",
      "2023-05-08 00:00:00\n",
      "2023-05-09 00:00:00\n",
      "2023-05-10 00:00:00\n",
      "2023-05-11 00:00:00\n",
      "2023-05-12 00:00:00\n",
      "2023-05-15 00:00:00\n",
      "2023-05-16 00:00:00\n",
      "2023-05-17 00:00:00\n",
      "2023-05-18 00:00:00\n",
      "2023-05-19 00:00:00\n",
      "2023-05-22 00:00:00\n",
      "2023-05-23 00:00:00\n",
      "2023-05-24 00:00:00\n",
      "2023-05-25 00:00:00\n",
      "2023-05-26 00:00:00\n",
      "2023-05-30 00:00:00\n",
      "2023-05-31 00:00:00\n",
      "2023-06-01 00:00:00\n",
      "2023-06-02 00:00:00\n",
      "2023-06-05 00:00:00\n",
      "2023-06-06 00:00:00\n",
      "2023-06-07 00:00:00\n",
      "2023-06-08 00:00:00\n",
      "2023-06-09 00:00:00\n",
      "2023-06-12 00:00:00\n",
      "2023-06-13 00:00:00\n",
      "2023-06-14 00:00:00\n",
      "2023-06-15 00:00:00\n",
      "2023-06-16 00:00:00\n",
      "2023-06-20 00:00:00\n",
      "2023-06-21 00:00:00\n",
      "2023-06-22 00:00:00\n",
      "2023-06-23 00:00:00\n",
      "2023-06-26 00:00:00\n",
      "2023-06-27 00:00:00\n",
      "2023-06-28 00:00:00\n",
      "2023-06-29 00:00:00\n",
      "2023-06-30 00:00:00\n",
      "2023-07-03 00:00:00\n",
      "2023-07-05 00:00:00\n",
      "2023-07-06 00:00:00\n",
      "2023-07-07 00:00:00\n",
      "2023-07-10 00:00:00\n",
      "2023-07-11 00:00:00\n",
      "2023-07-12 00:00:00\n",
      "2023-07-13 00:00:00\n",
      "2023-07-14 00:00:00\n",
      "2023-07-17 00:00:00\n",
      "2023-07-18 00:00:00\n",
      "2023-07-19 00:00:00\n",
      "2023-07-20 00:00:00\n",
      "2023-07-21 00:00:00\n",
      "2023-07-24 00:00:00\n",
      "2023-07-25 00:00:00\n",
      "2023-07-26 00:00:00\n",
      "2023-07-27 00:00:00\n",
      "2023-07-28 00:00:00\n",
      "2023-07-31 00:00:00\n",
      "2023-08-01 00:00:00\n",
      "2023-08-02 00:00:00\n",
      "2023-08-03 00:00:00\n",
      "2023-08-04 00:00:00\n",
      "2023-08-07 00:00:00\n",
      "2023-08-08 00:00:00\n",
      "2023-08-09 00:00:00\n",
      "2023-08-10 00:00:00\n",
      "2023-08-11 00:00:00\n",
      "2023-08-14 00:00:00\n",
      "2023-08-15 00:00:00\n",
      "2023-08-16 00:00:00\n",
      "2023-08-17 00:00:00\n",
      "2023-08-18 00:00:00\n",
      "2023-08-21 00:00:00\n",
      "2023-08-22 00:00:00\n",
      "2023-08-23 00:00:00\n",
      "2023-08-24 00:00:00\n",
      "2023-08-25 00:00:00\n",
      "2023-08-28 00:00:00\n",
      "2023-08-29 00:00:00\n",
      "2023-08-30 00:00:00\n",
      "2023-08-31 00:00:00\n",
      "2023-09-01 00:00:00\n",
      "2023-09-05 00:00:00\n",
      "2023-09-06 00:00:00\n",
      "2023-09-07 00:00:00\n"
     ]
    }
   ],
   "source": [
    "for a in k_2023.index:\n",
    "    print(a)"
   ]
  }
 ],
 "metadata": {
  "colab": {
   "provenance": []
  },
  "kernelspec": {
   "display_name": "Python 3 (ipykernel)",
   "language": "python",
   "name": "python3"
  },
  "language_info": {
   "codemirror_mode": {
    "name": "ipython",
    "version": 3
   },
   "file_extension": ".py",
   "mimetype": "text/x-python",
   "name": "python",
   "nbconvert_exporter": "python",
   "pygments_lexer": "ipython3",
   "version": "3.11.1"
  }
 },
 "nbformat": 4,
 "nbformat_minor": 4
}
